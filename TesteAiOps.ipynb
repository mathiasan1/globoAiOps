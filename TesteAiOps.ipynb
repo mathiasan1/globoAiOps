{
  "nbformat": 4,
  "nbformat_minor": 0,
  "metadata": {
    "kernelspec": {
      "display_name": "Python 3",
      "language": "python",
      "name": "python3"
    },
    "language_info": {
      "codemirror_mode": {
        "name": "ipython",
        "version": 3
      },
      "file_extension": ".py",
      "mimetype": "text/x-python",
      "name": "python",
      "nbconvert_exporter": "python",
      "pygments_lexer": "ipython3",
      "version": "3.7.6"
    },
    "colab": {
      "name": "TesteAiOps.ipynb",
      "provenance": [],
      "toc_visible": true
    }
  },
  "cells": [
    {
      "cell_type": "markdown",
      "metadata": {
        "id": "nf2eKoomfxJg",
        "colab_type": "text"
      },
      "source": [
        "#Teste AiOps\n",
        "\n",
        "Nós somos da equipe de AiOps na Globo e queremos te conhecer um pouco melhor. Responda as perguntas abaixo em um Jupyter Notebook (.ipynb) e nos envie sua resposta através de algum link **privado** ou arquivo, pode ser em um github ou Google Colab, como preferir. \n",
        "Boa sorte!"
      ]
    },
    {
      "cell_type": "markdown",
      "metadata": {
        "id": "RxPDLk3oLKeW",
        "colab_type": "text"
      },
      "source": [
        "# Nova seção"
      ]
    },
    {
      "cell_type": "markdown",
      "metadata": {
        "id": "qP6ajsa0fw3y",
        "colab_type": "text"
      },
      "source": [
        "\n",
        "\n",
        "```\n",
        "1) “AIOps” é um termo criado em 2016 pelo Gartner para nomear a aplicação de recursos de IA na operação de TI, ou do acrônimo inglês “Artificial Intelligence for IT Operations”. \n",
        "\n",
        "AIOps consiste em aplicar, de alguma forma, técnicas de ML para resolver problemas de operações de TI. O conceito combina recursos de Big Data de ML para aperfeiçoar funções tradicionais da TI. \n",
        "\n",
        "Em sua opinião, como o uso de IA pode ajudar a reduzir problemas comuns em uma operação de um data center? Disserte sobre o assunto.\n",
        "\n",
        "```"
      ]
    },
    {
      "cell_type": "markdown",
      "metadata": {
        "id": "w-c2KaZhg_rs",
        "colab_type": "text"
      },
      "source": [
        "> A utilização de técnicas que envolvem ML ou Deep Learning, tem como um de seus principais objetivos análises preditivas, baseadas em conceitos abordados nas análises descritivas, logo a utlização de IA para identificação de caracteristicas anomalas em um recurso se torna uma excelente ferramenta para auxiliar a prevenção de possíveis falhas, tudo baseado em dados existentes históricos"
      ]
    },
    {
      "cell_type": "markdown",
      "metadata": {
        "id": "4lcgGZPmfw0v",
        "colab_type": "text"
      },
      "source": [
        "```\n",
        "2) Em que situação você usaria o algoritmo SVM sobre o algoritmo Random Forest (e vice versa)?\n",
        "``` "
      ]
    },
    {
      "cell_type": "markdown",
      "metadata": {
        "colab_type": "text",
        "id": "90tpaE_bjRC4"
      },
      "source": [
        "> Via de regra isso depende dos dados que estão dispostos ou mesmo o problema que busca-se solucionar, Random Forest funciona muito bem em problema cuja saída é de várias classes, entretanto SVM é utilizado para problemas de ordem binária, normalmente para calculo de vetores e distancia o SVM se aplica melhor, porém Randam se aplica bem com diferentes escalas de dados e suas diferentes caracteristicas"
      ]
    },
    {
      "cell_type": "markdown",
      "metadata": {
        "id": "SLMLfswifwxk",
        "colab_type": "text"
      },
      "source": [
        "```\n",
        "3) Qual a diferença entre aprendizado supervisionado e não supervisionado em ML? Responda usando suas próprias palavras\n",
        "```"
      ]
    },
    {
      "cell_type": "markdown",
      "metadata": {
        "colab_type": "text",
        "id": "ErWX9ClkjTZL"
      },
      "source": [
        "> No aprendizado não supervisionado não há rotulos para os dados, sua saída não é conhecida podendo ser uma clusterização ou sumarização, no supervisionado há um conjunto de classe esperado se treina os dados para identificar as saídas possíveis "
      ]
    },
    {
      "cell_type": "markdown",
      "metadata": {
        "id": "EtLNWWYrfwtX",
        "colab_type": "text"
      },
      "source": [
        "\n",
        "```\n",
        "4) É melhor ter muitos falsos positivos ou muitos falsos negativos? Explique\n",
        "```\n",
        "\n"
      ]
    },
    {
      "cell_type": "markdown",
      "metadata": {
        "colab_type": "text",
        "id": "FQxKAxoHjT8F"
      },
      "source": [
        "> Isso depende do tipo de problema abordado, entretanto caso necessário um Recall maior para o modelo criado, ter um modelo que acuse uma maior quantidade de registros falsos negativos é adequado, os falsos positivos podem gerar análises ou decorrências que muitas vezes não representavam alguma ação. Porém falsos positivos costumas apontar características próximas dos registos o que em muitos casos é ocasioando por um overfiting no treinamento em problemas de analise de sentimento isso pode ser utilizado"
      ]
    },
    {
      "cell_type": "markdown",
      "metadata": {
        "id": "9GFX5sMDfwlm",
        "colab_type": "text"
      },
      "source": [
        "\n",
        "\n",
        "```\n",
        "5) Qual a principal diferença entre MapReduce e Spark? Você já teve experiência em algum projeto com algum deles?\n",
        "\n",
        "```\n",
        "\n"
      ]
    },
    {
      "cell_type": "markdown",
      "metadata": {
        "colab_type": "text",
        "id": "ZyLalP_fjUc6"
      },
      "source": [
        "> A principal diferença está na interação dos dados enquanto o Apache MapReduce executa a sincronização diretamente nos dados o Apache Spark os processa em memória o que facilita seu escalonamento, sim utilizo constantemente o Spark para etl de dados"
      ]
    },
    {
      "cell_type": "markdown",
      "metadata": {
        "id": "ekDzv31HfwTN",
        "colab_type": "text"
      },
      "source": [
        "\n",
        "```\n",
        "6) O que é mais importante para você — a precisão do modelo ou a performance do modelo?\n",
        "```\n",
        "\n"
      ]
    },
    {
      "cell_type": "markdown",
      "metadata": {
        "colab_type": "text",
        "id": "BilgiglxjU3g"
      },
      "source": [
        "> Depende do problema a ser solucionado, em casos de problemas assincronos um modelo pode ser mais lento entretanto suas sáidas podem atender melhor o problema, modelos performátivos são melhores utilizados em recomendações instantaneas a nível de resolução, exemplo uma recomendação de compra"
      ]
    },
    {
      "cell_type": "markdown",
      "metadata": {
        "id": "rOTIz1G0BEHD",
        "colab_type": "text"
      },
      "source": [
        "```\n",
        "7) Como você lida com dados ausentes ou corrompidos no dataset?\n",
        "```"
      ]
    },
    {
      "cell_type": "markdown",
      "metadata": {
        "colab_type": "text",
        "id": "b7QgA4rzBB3L"
      },
      "source": [
        "> Há várias técnicas de abordagem destes cenários, em casos aonde há poucos dados procuro efetuar tratativas que sejam plausíveis para manter o máximo de registros possíveis, utilizando média de valores, mediana etc. Em alguns casos os dados precisam ser removidos para não afetar as precisões do modelo."
      ]
    },
    {
      "cell_type": "markdown",
      "metadata": {
        "id": "S2YgJlaBA-dr",
        "colab_type": "text"
      },
      "source": [
        ""
      ]
    },
    {
      "cell_type": "markdown",
      "metadata": {
        "id": "cvhQ8420Pigl",
        "colab_type": "text"
      },
      "source": [
        "# Projeto Globoplay Produtos\n",
        "\n",
        "A Globo decidiu lançar um sistema de compras dentro de seu aplicativo de streaming Globoplay. Os usuários assinam o Globoplay e podem assistir diversos conteúdos de vídeos: filmes, séries, novelas, jornais, etc. Enquanto o usuário assiste o conteúdo, ele pode acessar um menu no aplicativo ou no website que irá mostrar produtos relacionados ao conteúdo que está sendo assistido, exemplo: O personagem de uma novela usa uma roupa de uma marca determinada, o usuário poderá comprar essa mesma roupa da mesma marca.\n",
        "\n",
        "Vamos supor que esse sistema já esteja sendo usado em uma pequena quantidade de usuários há alguns anos e você foi contratado para analisar se a Globo deverá focar seus esforços em seu aplicativo móvel ou em seu site, de forma a dar mais atenção ao que gera mais lucro."
      ]
    },
    {
      "cell_type": "markdown",
      "metadata": {
        "id": "OcQctSbuPign",
        "colab_type": "text"
      },
      "source": [
        "## Imports"
      ]
    },
    {
      "cell_type": "code",
      "metadata": {
        "id": "3uv-jsvVPign",
        "colab_type": "code",
        "colab": {}
      },
      "source": [
        "#imports das bibliotecas a serem usadas. --- continuarei a responder"
      ],
      "execution_count": null,
      "outputs": []
    },
    {
      "cell_type": "markdown",
      "metadata": {
        "id": "Btr063-UPigr",
        "colab_type": "text"
      },
      "source": [
        "## Obter dados\n",
        "\n",
        "Trabalharemos com o arquivo csv GloboplayUsers (/GloboplayUsers.csv) que possui informações fictícias dos cliente:\n",
        "\n",
        "* Time on App: Tempo médio gasto no aplicativo Globoplay em horas/semana.\n",
        "* Time on Website: Tempo médio gasto no site do Globoplay em horas/semana.\n",
        "* Lenght of Membership: Há quantos anos o cliente é membro do Globoplay.\n",
        "* Yearly Amount Spent: Quanto o usuário gastou em média durante um ano de teste da funcionalidade em reais.\n"
      ]
    },
    {
      "cell_type": "code",
      "metadata": {
        "id": "Ig7bOGzoPigs",
        "colab_type": "code",
        "colab": {}
      },
      "source": [
        "#importe o csv aqui\n"
      ],
      "execution_count": null,
      "outputs": []
    },
    {
      "cell_type": "code",
      "metadata": {
        "id": "DhOLTan_Pigv",
        "colab_type": "code",
        "colab": {}
      },
      "source": [
        ""
      ],
      "execution_count": null,
      "outputs": []
    },
    {
      "cell_type": "code",
      "metadata": {
        "id": "pYCdBnq7Pigy",
        "colab_type": "code",
        "colab": {}
      },
      "source": [
        ""
      ],
      "execution_count": null,
      "outputs": []
    },
    {
      "cell_type": "code",
      "metadata": {
        "id": "GMtEFSSJPig1",
        "colab_type": "code",
        "colab": {}
      },
      "source": [
        ""
      ],
      "execution_count": null,
      "outputs": []
    },
    {
      "cell_type": "markdown",
      "metadata": {
        "id": "UhECsMPtPig4",
        "colab_type": "text"
      },
      "source": [
        "## Análise de dados\n",
        "\n",
        "1) Através do seaborn, crie um jointplot para comparar o tempo gasto no Website e o Total Gasto por ano. A correlação faz sentido?"
      ]
    },
    {
      "cell_type": "code",
      "metadata": {
        "id": "Tfm5_8BAPig4",
        "colab_type": "code",
        "colab": {}
      },
      "source": [
        "sns.set_palette(\"GnBu_d\")\n",
        "sns.set_style('whitegrid')"
      ],
      "execution_count": null,
      "outputs": []
    },
    {
      "cell_type": "code",
      "metadata": {
        "id": "vaCFE3_SPig7",
        "colab_type": "code",
        "colab": {}
      },
      "source": [
        "#jointplot aqui"
      ],
      "execution_count": null,
      "outputs": []
    },
    {
      "cell_type": "markdown",
      "metadata": {
        "id": "vx28GvAnPig-",
        "colab_type": "text"
      },
      "source": [
        "2) Faça o mesmo, mas comparando com o tempo gasto no aplicativo"
      ]
    },
    {
      "cell_type": "code",
      "metadata": {
        "id": "ZpDxtLKVPig-",
        "colab_type": "code",
        "colab": {}
      },
      "source": [
        ""
      ],
      "execution_count": null,
      "outputs": []
    },
    {
      "cell_type": "markdown",
      "metadata": {
        "id": "fUDeawrbPihC",
        "colab_type": "text"
      },
      "source": [
        "3) Faça um pairplot com os dados dos usuários.  Baseado neste plot o que parece ser a característica mais correlacionada com o valor anual gasto? "
      ]
    },
    {
      "cell_type": "code",
      "metadata": {
        "id": "uVeL7S0dPihD",
        "colab_type": "code",
        "colab": {}
      },
      "source": [
        ""
      ],
      "execution_count": null,
      "outputs": []
    },
    {
      "cell_type": "code",
      "metadata": {
        "id": "xJmT8vQTPihG",
        "colab_type": "code",
        "colab": {}
      },
      "source": [
        ""
      ],
      "execution_count": null,
      "outputs": []
    },
    {
      "cell_type": "markdown",
      "metadata": {
        "id": "ohNPw4a3PihI",
        "colab_type": "text"
      },
      "source": [
        "## Treinando e testando os dados\n",
        "\n",
        "Agora que analisamos um pouco os nossos dados, vamos criar um modelo de Machine Learning usando **Regressão Linear**.\n",
        "\n",
        "4) Crie uma variável y com o Valor gasto anualmente pelo usuário do Globoplay e crie uma variável X que contenha as demais características numéricas restantes dos clientes. Divida os dados em treinamento e teste, com tamanho do teste em 30%"
      ]
    },
    {
      "cell_type": "code",
      "metadata": {
        "id": "JMBgNMV3PihJ",
        "colab_type": "code",
        "colab": {}
      },
      "source": [
        ""
      ],
      "execution_count": null,
      "outputs": []
    },
    {
      "cell_type": "code",
      "metadata": {
        "id": "Vn_NALItPihL",
        "colab_type": "code",
        "colab": {}
      },
      "source": [
        ""
      ],
      "execution_count": null,
      "outputs": []
    },
    {
      "cell_type": "code",
      "metadata": {
        "id": "H_PXxvIePihN",
        "colab_type": "code",
        "colab": {}
      },
      "source": [
        ""
      ],
      "execution_count": null,
      "outputs": []
    },
    {
      "cell_type": "code",
      "metadata": {
        "id": "yQy1cYebPihP",
        "colab_type": "code",
        "colab": {}
      },
      "source": [
        ""
      ],
      "execution_count": null,
      "outputs": []
    },
    {
      "cell_type": "markdown",
      "metadata": {
        "id": "8pZXabB2PihT",
        "colab_type": "text"
      },
      "source": [
        "# Treinando o modelo\n",
        "\n",
        "6) Agora vamos treinar nosso modelo! Importe a Regressão Linear da biblioteca sklearn, treine o modelo e print os coeficientes do mesmo."
      ]
    },
    {
      "cell_type": "code",
      "metadata": {
        "id": "2Igg1cusPihT",
        "colab_type": "code",
        "colab": {}
      },
      "source": [
        ""
      ],
      "execution_count": null,
      "outputs": []
    },
    {
      "cell_type": "code",
      "metadata": {
        "id": "iALbf0zZPihZ",
        "colab_type": "code",
        "colab": {}
      },
      "source": [
        ""
      ],
      "execution_count": null,
      "outputs": []
    },
    {
      "cell_type": "code",
      "metadata": {
        "id": "WvMbkhW2Pihc",
        "colab_type": "code",
        "colab": {}
      },
      "source": [
        ""
      ],
      "execution_count": null,
      "outputs": []
    },
    {
      "cell_type": "markdown",
      "metadata": {
        "id": "UlQAoM2SPihe",
        "colab_type": "text"
      },
      "source": [
        "## Previsão de dados de teste\n",
        "\n",
        "\n",
        "10) Faça uma previsão do conjunto X_test dos dados."
      ]
    },
    {
      "cell_type": "code",
      "metadata": {
        "id": "tWF_Ib06Pihf",
        "colab_type": "code",
        "colab": {}
      },
      "source": [
        ""
      ],
      "execution_count": null,
      "outputs": []
    },
    {
      "cell_type": "markdown",
      "metadata": {
        "id": "brpC_lJ-Pihh",
        "colab_type": "text"
      },
      "source": [
        "11) Crie um diagrama de dispersão (scatterplot) dos valores reais de teste em relação aos valores preditos."
      ]
    },
    {
      "cell_type": "code",
      "metadata": {
        "id": "eCFcrt2ePihh",
        "colab_type": "code",
        "colab": {}
      },
      "source": [
        ""
      ],
      "execution_count": null,
      "outputs": []
    },
    {
      "cell_type": "markdown",
      "metadata": {
        "id": "JhyKLoyOPihj",
        "colab_type": "text"
      },
      "source": [
        "## Avaliando o Modelo\n",
        "\n",
        "Avalie o modelo usando métricas que você acha interessante."
      ]
    },
    {
      "cell_type": "code",
      "metadata": {
        "id": "HfGEDr2SPihj",
        "colab_type": "code",
        "colab": {}
      },
      "source": [
        ""
      ],
      "execution_count": null,
      "outputs": []
    },
    {
      "cell_type": "code",
      "metadata": {
        "id": "Cpvd7VlRR0zz",
        "colab_type": "code",
        "colab": {}
      },
      "source": [
        ""
      ],
      "execution_count": null,
      "outputs": []
    },
    {
      "cell_type": "markdown",
      "metadata": {
        "id": "DlFy_NwQPihm",
        "colab_type": "text"
      },
      "source": [
        "## Conclusão\n",
        "Devemos nos concentrar nos aplicativos móveis ou acesso web? O tempo como membro é importante? Como você interpreta os coeficientes gerados?"
      ]
    },
    {
      "cell_type": "code",
      "metadata": {
        "id": "yZCtjPciPihn",
        "colab_type": "code",
        "colab": {}
      },
      "source": [
        ""
      ],
      "execution_count": null,
      "outputs": []
    },
    {
      "cell_type": "code",
      "metadata": {
        "id": "kUdcWGzeyNFW",
        "colab_type": "code",
        "colab": {}
      },
      "source": [
        ""
      ],
      "execution_count": null,
      "outputs": []
    },
    {
      "cell_type": "markdown",
      "metadata": {
        "colab_type": "text",
        "id": "wGrV5OK2nujd"
      },
      "source": [
        "> Responda aqui"
      ]
    },
    {
      "cell_type": "code",
      "metadata": {
        "id": "Q66fG4nRymlm",
        "colab_type": "code",
        "colab": {}
      },
      "source": [
        "Você acha que usar Regressão Linear nesse caso fez sentido? Qual outro modelo poderia ser utilizado e por quê?"
      ],
      "execution_count": null,
      "outputs": []
    },
    {
      "cell_type": "markdown",
      "metadata": {
        "colab_type": "text",
        "id": "ht4tILK55eFl"
      },
      "source": [
        "> Responda aqui"
      ]
    },
    {
      "cell_type": "markdown",
      "metadata": {
        "id": "ARiB3grDnxur",
        "colab_type": "text"
      },
      "source": [
        "\n",
        "\n",
        "```\n",
        "Obrigado por ter chegado até aqui, iremos te dar um feedback o mais breve possível! \n",
        "```\n",
        "\n"
      ]
    }
  ]
}
